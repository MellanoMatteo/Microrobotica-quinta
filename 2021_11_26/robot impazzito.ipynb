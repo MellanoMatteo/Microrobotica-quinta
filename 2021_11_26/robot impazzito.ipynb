{
 "cells": [
  {
   "cell_type": "markdown",
   "id": "f003d479",
   "metadata": {},
   "source": [
    "Un braccio robotico industriale libero di muoversi avanti e indietro\n",
    "lungo una rotaia è impazzito. Ogni secondo si muove scegliendo a caso\n",
    "tra due possibili movimenti: 1 cm in avanti, oppure 1 cm indietro. Non è\n",
    "possibile togliere corrente al robot senza bloccare tutto lo\n",
    "stabilimento, quindi bisogna attendere lo spegnimento che si effettua\n",
    "tutti i finesettimana e oggi purtroppo è lunedì! Il nostro responsabile\n",
    "ci chiede di simulare lo spostamento totale che il robot avrà effettuato\n",
    "dopo 5 interi giorni di pazzia. Il robot è partito dalla posizione\n",
    "centrale della rotaia avente coordinata 0cm."
   ]
  },
  {
   "cell_type": "code",
   "execution_count": 1,
   "id": "3b963cb1",
   "metadata": {},
   "outputs": [],
   "source": [
    "import numpy as np"
   ]
  },
  {
   "cell_type": "code",
   "execution_count": 41,
   "id": "8bf4be12",
   "metadata": {},
   "outputs": [
    {
     "data": {
      "text/plain": [
       "1320"
      ]
     },
     "execution_count": 41,
     "metadata": {},
     "output_type": "execute_result"
    }
   ],
   "source": [
    "def movimentoRobotNumpy():\n",
    "    mov = np.sum(np.random.choice((-1, 1), size = 60*60*24*5))\n",
    "    return mov\n",
    "movimentoRobot()"
   ]
  },
  {
   "cell_type": "code",
   "execution_count": 20,
   "id": "aec456d8",
   "metadata": {},
   "outputs": [
    {
     "data": {
      "text/plain": [
       "-986"
      ]
     },
     "execution_count": 20,
     "metadata": {},
     "output_type": "execute_result"
    }
   ],
   "source": [
    "import random\n",
    "def movimentoRobotPython():\n",
    "    time = 60*60*24*5\n",
    "    sum = 0\n",
    "    for i in range(time):\n",
    "        sum += random.choice((-1, 1))\n",
    "    return sum\n",
    "movimentoRobotPython()"
   ]
  },
  {
   "cell_type": "markdown",
   "id": "018eb045",
   "metadata": {},
   "source": [
    "Consideriamo mille classi da 25 alunni ciascuna: per ognuna di esse simuliamo il giorno di nascita di ciascun alunno estraendo un numero a caso tra 0 e 364 inclusi (i giorni dell'anno non bisestile sono 365): calcolare in quante delle mille classi ci sono almeno due alunni nati lo stesso giorno."
   ]
  },
  {
   "cell_type": "code",
   "execution_count": 2,
   "id": "1818e5e9",
   "metadata": {},
   "outputs": [],
   "source": [
    "from collections import Counter"
   ]
  },
  {
   "cell_type": "code",
   "execution_count": 31,
   "id": "cd85719c",
   "metadata": {},
   "outputs": [
    {
     "data": {
      "text/plain": [
       "588"
      ]
     },
     "execution_count": 31,
     "metadata": {},
     "output_type": "execute_result"
    }
   ],
   "source": [
    "def natiNumpy():\n",
    "    day = np.random.randint(1,366, size = (1000,25))\n",
    "    classWithSameDate = 0\n",
    "    for classroom in day:\n",
    "         if len(np.unique(classroom)) < 25:\n",
    "            #print(f\"doppio {classroom}, {np.bincount(classroom)}\")\n",
    "            classWithSameDate += 1\n",
    "\n",
    "    return classWithSameDate\n",
    "natiNumpy()"
   ]
  },
  {
   "cell_type": "code",
   "execution_count": 21,
   "id": "06fcec88",
   "metadata": {},
   "outputs": [
    {
     "data": {
      "text/plain": [
       "63"
      ]
     },
     "execution_count": 21,
     "metadata": {},
     "output_type": "execute_result"
    }
   ],
   "source": [
    "import random\n",
    "\n",
    "def natiPython():\n",
    "    count = 0\n",
    "    for i in range(1000):\n",
    "        cls = random.sample(range(0,364), 25)\n",
    "        if 2 in Counter(cls):\n",
    "            count += 1\n",
    "    return count\n",
    "natiPython()\n",
    "        "
   ]
  },
  {
   "cell_type": "markdown",
   "id": "ba4ff0af",
   "metadata": {},
   "source": [
    "Dato un array monodimensionale di numeri, trovare la posizione di tutti i massimi locali. Ad esempio, dato l'array a = [0, 2, 1, 1, 3, 2], 2 e 3 sono massimi locali rispettivamente nelle posizioni 1 e 4."
   ]
  },
  {
   "cell_type": "code",
   "execution_count": 32,
   "id": "4cbd7dc8",
   "metadata": {},
   "outputs": [
    {
     "data": {
      "text/plain": [
       "(array([1, 4], dtype=int64),)"
      ]
     },
     "execution_count": 32,
     "metadata": {},
     "output_type": "execute_result"
    }
   ],
   "source": [
    "def massimiLocali(arr):\n",
    "    #creo un array tabbato a sx e a dx per confrontare \n",
    "    #elemento per elemento e trovare se il max è nell'array\n",
    "    #di partenza\n",
    "    arr1 = np.append(arr[1:], arr[0])\n",
    "    arr2 = np.append(arr[-1], arr[0:-1])\n",
    "    #print(arr, arr1, arr2)\n",
    "    \n",
    "    maxloc = np.where(np.logical_and(arr > arr1, arr > arr2))\n",
    "    return maxloc\n",
    "    \n",
    "massimiLocali(np.array([0, 2, 1, 1, 3, 2]))"
   ]
  },
  {
   "cell_type": "markdown",
   "id": "5db38eab",
   "metadata": {},
   "source": [
    "Dato un array monodimensionale di numeri interi compresi tra 0 e 9, generato casualmente, trovare le posizioni dell'array in cui compare la sequenza di numeri [1, 2, 3]."
   ]
  },
  {
   "cell_type": "code",
   "execution_count": 37,
   "id": "4154c9cd",
   "metadata": {},
   "outputs": [
    {
     "data": {
      "text/plain": [
       "array([ True, False, False,  True, False, False])"
      ]
     },
     "execution_count": 37,
     "metadata": {},
     "output_type": "execute_result"
    }
   ],
   "source": [
    "def trovareSequenza(arr, seq=np.array([1,2,3])):\n",
    "    # la funzione roll mi fa scivolare l'array di una posizione indicata\n",
    "    \n",
    "    return np.logical_and(np.logical_and(arr == 1, np.roll(arr, -1) == 2), np.roll(arr, -2) == 3)\n",
    "trovareSequenza(np.array([1,2,3,1,2,3]))"
   ]
  },
  {
   "cell_type": "markdown",
   "id": "01a9f461",
   "metadata": {},
   "source": [
    "Sul territorio comunale sono installate tre centraline per la misurazione del livello di polveri sottili PM10 nell'aria. Talvolta le centraline vanno in uno stato di errore per cui la misurazione delle PM10 fallisce ed il dato corrispondente riporta il valore 9999.9 all'interno dell'array delle misurazioni. Inoltre, per motivi sconosciuti, talvolta le centraline riportano il valore -1. Statisticamente si è visto che il primo errore ha una frequenza dello 0.2% mentre il secondo del 0.1%\n",
    "\n",
    "Creare una matrice avente 3 colonne e le righe contenente i dati di tutte le centraline registrati nelle 24 ore (si registra il dato ogni minuto)\n",
    "\n",
    "Eliminare tutte le righe della matrice in cui vi sia almeno una misura errata o una misura di origine sconosciuta"
   ]
  },
  {
   "cell_type": "code",
   "execution_count": null,
   "id": "f23e0526",
   "metadata": {},
   "outputs": [],
   "source": [
    "num_minuti = 20 #24*60\n",
    "valore_0_2_non_percentuale = 20/100\n",
    "valore_0_1_non_percentuale = 20/100\n",
    "\n",
    "def num_random(a):\n",
    "    val = np.random.random()\n",
    "    if val < valore_0_1_non_percentuale:\n",
    "        return 9999\n",
    "    elif val < valore_0_2_non_percentuale + valore_0_1_non_percentuale  and val > valore_0_1_non_percentuale:\n",
    "        return -1\n",
    "    else:\n",
    "        return np.random.randint(0,40)\n",
    "    \n",
    "num_random_v = np.vectorize(num_random)\n",
    "matrice = np.ones((num_minuti, 3))\n",
    "matrice = num_random_v(matrice)\n",
    "\n"
   ]
  },
  {
   "cell_type": "code",
   "execution_count": null,
   "id": "28bf33c2",
   "metadata": {},
   "outputs": [],
   "source": [
    "matrice[np.logical_not(np.any(np.logical_or(matrice== 9999,matrice== -1), axis = 1))]\n"
   ]
  },
  {
   "cell_type": "code",
   "execution_count": null,
   "id": "1627fa14",
   "metadata": {},
   "outputs": [],
   "source": [
    "import random\n",
    "\n",
    "# generatore di numeri random\n",
    "def num_random():\n",
    "    val = random.random()\n",
    "    if val < valore_0_1_non_percentuale:\n",
    "        return 9999.9\n",
    "    elif val < valore_0_2_non_percentuale:\n",
    "        return -1\n",
    "    else:\n",
    "        return random.randint(0,40)\n",
    "    \n",
    "\n",
    "# creazione matrice\n",
    "matrice = []\n",
    "for _ in range(num_minuti):\n",
    "    \n",
    "    riga = []\n",
    "    \n",
    "    for _ in range(3):\n",
    "        riga.append(num_random())\n",
    "        \n",
    "    matrice.append(riga)\n",
    "    \n",
    "print(matrice)\n",
    "\n",
    "# trovare gli array da eliminare\n",
    "array_indici_da_eliminare = []\n",
    "for i, val in enumerate(matrice):\n",
    "    if -1 in val or 9999.9 in val:\n",
    "        matrice.pop(i)\n",
    "\n",
    "print(\"\\n\\n\")\n",
    "print(matrice)\n",
    "            \n",
    "            "
   ]
  }
 ],
 "metadata": {
  "kernelspec": {
   "display_name": "Python 3",
   "language": "python",
   "name": "python3"
  },
  "language_info": {
   "codemirror_mode": {
    "name": "ipython",
    "version": 3
   },
   "file_extension": ".py",
   "mimetype": "text/x-python",
   "name": "python",
   "nbconvert_exporter": "python",
   "pygments_lexer": "ipython3",
   "version": "3.8.8"
  }
 },
 "nbformat": 4,
 "nbformat_minor": 5
}
