{
 "cells": [
  {
   "cell_type": "markdown",
   "id": "3f43a24a",
   "metadata": {},
   "source": [
    "1: diz del numero di comparizioni di una parola\n",
    "2: diz delle liste delle parole successive "
   ]
  },
  {
   "cell_type": "code",
   "execution_count": 1,
   "id": "edfd8bbd",
   "metadata": {},
   "outputs": [],
   "source": [
    "file = open(\"sei_personaggi_in_cerca_dautore_Luigi_Pirandello.txt\", \"r\")\n",
    "testo = file.read()\n",
    "file.close()\n",
    "testo = testo.replace(\"\\n\", \"\")"
   ]
  },
  {
   "cell_type": "code",
   "execution_count": 2,
   "id": "3eeca82e",
   "metadata": {},
   "outputs": [],
   "source": [
    "frequenze = {}\n",
    "\n",
    "for word in testo.split(\" \"):\n",
    "    if word == \"\":\n",
    "        continue\n",
    "    \n",
    "    word = word.lower()\n",
    "    if word not in frequenze.keys():\n",
    "        frequenze[word] = 1\n",
    "    else:\n",
    "        frequenze[word] += 1\n"
   ]
  },
  {
   "cell_type": "code",
   "execution_count": 3,
   "id": "d10c8e9e",
   "metadata": {},
   "outputs": [],
   "source": [
    "adiacenze = {}\n",
    "testoDiviso = testo.split(\" \")\n",
    "for i in range(len(testoDiviso)-1):\n",
    "   \n",
    "    \n",
    "    word = testoDiviso[i].lower()\n",
    "    succ = testoDiviso[i+1].lower()\n",
    "    if word == \"\":\n",
    "        continue\n",
    "\n",
    "    \n",
    "    #se la chiave non è presente nel dizionario\n",
    "    if word not in adiacenze.keys():\n",
    "        adiacenze[word] = []\n",
    "        adiacenze[word].append(succ) \n",
    "    #controllo che la parola non sia stata gia inserita\n",
    "    else:\n",
    "        if succ not in adiacenze[word]:\n",
    "            adiacenze[word].append(succ)\n"
   ]
  },
  {
   "cell_type": "code",
   "execution_count": null,
   "id": "0f77b340",
   "metadata": {},
   "outputs": [],
   "source": []
  }
 ],
 "metadata": {
  "kernelspec": {
   "display_name": "Python 3",
   "language": "python",
   "name": "python3"
  },
  "language_info": {
   "codemirror_mode": {
    "name": "ipython",
    "version": 3
   },
   "file_extension": ".py",
   "mimetype": "text/x-python",
   "name": "python",
   "nbconvert_exporter": "python",
   "pygments_lexer": "ipython3",
   "version": "3.8.8"
  }
 },
 "nbformat": 4,
 "nbformat_minor": 5
}
