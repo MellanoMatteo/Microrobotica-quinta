{
 "cells": [
  {
   "cell_type": "code",
   "execution_count": 2,
   "id": "8d682e59",
   "metadata": {},
   "outputs": [],
   "source": [
    "import numpy as np"
   ]
  },
  {
   "cell_type": "markdown",
   "id": "a32ac1f9",
   "metadata": {},
   "source": [
    "1) Creare una matrice fatta scacchiera 8x8 alternando 0 e 1 (la prima cella è uno 0) "
   ]
  },
  {
   "cell_type": "code",
   "execution_count": 24,
   "id": "ff81b3de",
   "metadata": {},
   "outputs": [
    {
     "name": "stdout",
     "output_type": "stream",
     "text": [
      "[[0 1 0 1 0 1 0 1]\n",
      " [1 0 1 0 1 0 1 0]\n",
      " [0 1 0 1 0 1 0 1]\n",
      " [1 0 1 0 1 0 1 0]\n",
      " [0 1 0 1 0 1 0 1]\n",
      " [1 0 1 0 1 0 1 0]\n",
      " [0 1 0 1 0 1 0 1]\n",
      " [1 0 1 0 1 0 1 0]]\n"
     ]
    }
   ],
   "source": [
    "def scacchiera(dim = 8):\n",
    "    z = np.zeros((dim,dim), dtype = int)\n",
    "    index = np.array([[i,j]for i in range(dim) for j in range(dim) if (i+j)% 2 == 1])\n",
    "    z[index.T[0], index.T[1]] = 1\n",
    "    return z\n",
    "print(scacchiera(8))"
   ]
  },
  {
   "cell_type": "markdown",
   "id": "87a61bde",
   "metadata": {},
   "source": [
    "2) Considerando l'array: Z = [1,2,3,4,5,6,7,8,9,10,11,12,13,14], generare un array R = [[1,2,3,4], [2,3,4,5], [3,4,5,6], ..., [11,12,13,14]]."
   ]
  },
  {
   "cell_type": "code",
   "execution_count": 39,
   "id": "fb9985b0",
   "metadata": {},
   "outputs": [
    {
     "name": "stdout",
     "output_type": "stream",
     "text": [
      "[[ 1  2  3  4]\n",
      " [ 2  3  4  5]\n",
      " [ 3  4  5  6]\n",
      " [ 4  5  6  7]\n",
      " [ 5  6  7  8]\n",
      " [ 6  7  8  9]\n",
      " [ 7  8  9 10]\n",
      " [ 8  9 10 11]\n",
      " [ 9 10 11 12]\n",
      " [10 11 12 13]\n",
      " [11 12 13 14]]\n"
     ]
    }
   ],
   "source": [
    "def dividiArray(array, dimDivided=4):\n",
    "    #print(len(array))\n",
    "    divided = np.zerosurlodelsiumm((len(array)-dimDivided+1, dimDivided), dtype = int)\n",
    "    \n",
    "    for i in range(0, (len(array)-dimDivided)+1):\n",
    "        divided[i] = array[i:i + dimDivided]\n",
    "    return divided\n",
    "\n",
    "def dividiArrayCorretta(array):\n",
    "    indici = np.array([i+j for i in range(0,11)for j in range(0,4)])\n",
    "    array = array[indici].reshape(11,4)\n",
    "    return array\n",
    "\n",
    "print(dividiArrayCorretta(np.array([1,2,3,4,5,6,7,8,9,10,11,12,13,14])))"
   ]
  },
  {
   "cell_type": "markdown",
   "id": "5bbeca57",
   "metadata": {},
   "source": [
    "3) Usando la funzione numpy.random.normal(mean, dev, shape) generare un ndarray che contenga la stima dell'altezza degli alunni della classe. L'ndarray deve avere lunghezza pari al numero di compagni di classe. I valori mean e dev devono essere stimati in modo tale da simulare la distribuzione dell'altezza degli alunni in cm nel modo più realistico possibile."
   ]
  },
  {
   "cell_type": "code",
   "execution_count": 37,
   "id": "8fc15e27",
   "metadata": {},
   "outputs": [
    {
     "name": "stdout",
     "output_type": "stream",
     "text": [
      "[1.77607946 1.7131008  1.79752978 1.61428125 1.86110191 1.42576535\n",
      " 1.88392824 1.42971599 1.91056583 1.48717725 1.99669757 1.77679656\n",
      " 1.62742244 1.82259135 1.549784  ]\n"
     ]
    }
   ],
   "source": [
    "def stimaAltezza(nAlunni):\n",
    "    altezze = np.random.normal(loc = 1.70, scale = 0.15, size = nAlunni)\n",
    "    return altezze\n",
    "print(stimaAltezza(15))"
   ]
  },
  {
   "cell_type": "code",
   "execution_count": 33,
   "id": "05321056",
   "metadata": {},
   "outputs": [],
   "source": [
    " np.random.normal?"
   ]
  },
  {
   "cell_type": "markdown",
   "id": "77576825",
   "metadata": {},
   "source": [
    "4) Creare una matrice fatta come un bersaglio 10x10, le cornici concentriche hanno valori crescenti verso il centro (quella più esterna ha valori = 1)"
   ]
  },
  {
   "cell_type": "code",
   "execution_count": 48,
   "id": "d9b09a6a",
   "metadata": {},
   "outputs": [
    {
     "name": "stdout",
     "output_type": "stream",
     "text": [
      "[[1 1 1 1 1 1 1 1 1]\n",
      " [1 2 2 2 2 2 2 2 1]\n",
      " [1 2 3 3 3 3 3 2 1]\n",
      " [1 2 3 4 4 4 3 2 1]\n",
      " [1 2 3 4 0 4 3 2 1]\n",
      " [1 2 3 4 4 4 3 2 1]\n",
      " [1 2 3 3 3 3 3 2 1]\n",
      " [1 2 2 2 2 2 2 2 1]\n",
      " [1 1 1 1 1 1 1 1 1]]\n",
      "[[1 1 1 1 1 1 1 1 1]\n",
      " [1 2 2 2 2 2 2 2 1]\n",
      " [1 2 3 3 3 3 3 2 1]\n",
      " [1 2 3 4 4 4 3 2 1]\n",
      " [1 2 3 4 1 4 3 2 1]\n",
      " [1 2 3 4 4 4 3 2 1]\n",
      " [1 2 3 3 3 3 3 2 1]\n",
      " [1 2 2 2 2 2 2 2 1]\n",
      " [1 1 1 1 1 1 1 1 1]]\n"
     ]
    }
   ],
   "source": [
    "def creaBersaglio(dim = 10):\n",
    "    target = np.zeros((dim, dim), dtype = int)\n",
    "    \n",
    "    \"\"\"\n",
    "    RAGIONAMENTO:\n",
    "    -il contatore tiene conto del cerchio che sto disegnando\n",
    "    -all'interno della matrice, tiene anche conto dell'indice \n",
    "        dal quale partire e al quale fermarsi nell'ambito della\n",
    "        riga/colonna (con opportuni aggiustamenti\n",
    "        come il -1 utilizzato sotto per la fine)\n",
    "    -con questo processo basta assegnare, partendo dalle righe\n",
    "        più esterne, in quanto il cont va da 0 in su, il contatore\n",
    "        stesso, partendo dalla posizione iesima nella riga/colonna\n",
    "        e arrivando alla posizione -iesima della stessa ciao come stai?\n",
    "        io sono cerutti\n",
    "        o forse no \n",
    "        non lo so di preciso\n",
    "        ora ti metto un errore nell' esercizio, trovalo\n",
    "    \"\"\"\n",
    "    for i in range(1,dim//2+1):\n",
    "        # righe sopra\n",
    "        target[i-1, i-1:-i] = i\n",
    "        #righe sotto\n",
    "        target[-i, i-1:-i] = i \n",
    "        #colonna a sinistra\n",
    "        target[i-1:-i, i-1] = i \n",
    "        #colonna a destra\n",
    "        target[i-1:-i, -i] = i\n",
    "        \"\"\"\n",
    "        il metodo di controllo delle matrici usato da numpy \n",
    "        sembra non comprendere l'ultimo valore scritto\n",
    "        \n",
    "        quindi per inserire correttamente le caselle della diagonale\n",
    "        che da in alto a sx scende, bisogna inserirli manualmente     \"\"\"\n",
    "        target[-i][-i] = i\n",
    "        \n",
    "        \n",
    "    return target\n",
    "\n",
    "def altroBersaglio(dim = 10):\n",
    "    target = np.ones((dim, dim), dtype = int)\n",
    "    for i in range(dim//2-1, -1, -1):\n",
    "        \n",
    "        target[i,:] = i+1\n",
    "        target[dim-i-1,:] = i+1\n",
    "        \n",
    "        target[:,i] = i+1\n",
    "        target[:,dim-i-1] = i+1\n",
    "    return target\n",
    "print(creaBersaglio(9))\n",
    "print(altroBersaglio(9))"
   ]
  },
  {
   "cell_type": "code",
   "execution_count": null,
   "id": "9d59723c",
   "metadata": {},
   "outputs": [],
   "source": []
  }
 ],
 "metadata": {
  "kernelspec": {
   "display_name": "Python 3",
   "language": "python",
   "name": "python3"
  },
  "language_info": {
   "codemirror_mode": {
    "name": "ipython",
    "version": 3
   },
   "file_extension": ".py",
   "mimetype": "text/x-python",
   "name": "python",
   "nbconvert_exporter": "python",
   "pygments_lexer": "ipython3",
   "version": "3.8.8"
  }
 },
 "nbformat": 4,
 "nbformat_minor": 5
}
