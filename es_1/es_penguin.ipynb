{
 "cells": [
  {
   "cell_type": "code",
   "execution_count": 12,
   "id": "f3d49c06",
   "metadata": {},
   "outputs": [],
   "source": [
    "dati = \"species,island,culmen_length_mm,culmen_depth_mm,flipper_length_mm,body_mass_g,sex\"\n",
    "listaCampi = dati.split(\",\")\n",
    "data = {}\n",
    "for dato in listaCampi:\n",
    "    data[dato] = []\n"
   ]
  },
  {
   "cell_type": "markdown",
   "id": "15d95755",
   "metadata": {},
   "source": [
    "mettendo il punto di domanda alla fine di un metodo al posto delle parentesi ti stampa cosa fa il metodo  scritto\n",
    "es print? spiega cosa fa print"
   ]
  },
  {
   "cell_type": "code",
   "execution_count": 15,
   "id": "e5a0ea4a",
   "metadata": {},
   "outputs": [
    {
     "name": "stdout",
     "output_type": "stream",
     "text": [
      "{'species': []
     ]
    }
   ],
   "source": [
    "f = open(\"./penguins_size.csv\", \"r\") \n",
    "for riga in f.readlines()[1:]:\n",
    "    riga = riga[:-1].split(\",\")\n",
    "    #rimuovo tutte le righe con almeno un valore NA\n",
    "    if \"NA\" not in riga:\n",
    "        for i in range(len(listaCampi)):\n",
    "            data[listaCampi[i]].append(riga[i])\n",
    "            \n",
    "print(data)"
   ]
  },
  {
   "cell_type": "code",
   "execution_count": null,
   "id": "ade59cc0",
   "metadata": {},
   "outputs": [],
   "source": []
  }
 ],
 "metadata": {
  "kernelspec": {
   "display_name": "Python 3",
   "language": "python",
   "name": "python3"
  },
  "language_info": {
   "codemirror_mode": {
    "name": "ipython",
    "version": 3
   },
   "file_extension": ".py",
   "mimetype": "text/x-python",
   "name": "python",
   "nbconvert_exporter": "python",
   "pygments_lexer": "ipython3",
   "version": "3.8.8"
  }
 },
 "nbformat": 4,
 "nbformat_minor": 5
}
