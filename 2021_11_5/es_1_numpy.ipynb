{
 "cells": [
  {
   "cell_type": "code",
   "execution_count": 1,
   "id": "2e49c92b",
   "metadata": {},
   "outputs": [],
   "source": [
    "import numpy as np"
   ]
  },
  {
   "cell_type": "markdown",
   "id": "360e993f",
   "metadata": {},
   "source": [
    "es 1: Creare una funzione che inverta un ndarray monodimensionale, ovvero crei un array monodimensionale con gli stessi elementi dell'array di partenza in ordine inverso\n"
   ]
  },
  {
   "cell_type": "code",
   "execution_count": 21,
   "id": "363d3791",
   "metadata": {},
   "outputs": [],
   "source": [
    "def reverseArray(array):\n",
    "    newArray = np.array([array[-i-1] for i in range(len(array))])\n",
    "    return newArray\n",
    "\n",
    "a = np.array([8,5,2,8])\n",
    "a1 = reverseArray(a)\n",
    "a1"
   ]
  },
  {
   "cell_type": "markdown",
   "id": "82dc1599",
   "metadata": {},
   "source": [
    "es 2: Generare un array Numpy che contenga le posizioni dei primi 100 numeri primi all'interno dei numeri naturali."
   ]
  },
  {
   "cell_type": "code",
   "execution_count": 46,
   "id": "a0fa2206",
   "metadata": {},
   "outputs": [
    {
     "data": {
      "text/plain": [
       "array([  2,   3,   5,   7,  11,  13,  17,  19,  23,  29,  31,  37,  41,\n",
       "        43,  47,  53,  59,  61,  67,  71,  73,  79,  83,  89,  97, 101,\n",
       "       103, 107, 109, 113, 127, 131, 137, 139, 149, 151, 157, 163, 167,\n",
       "       173, 179, 181, 191, 193, 197, 199, 211, 223, 227, 229, 233, 239,\n",
       "       241, 251, 257, 263, 269, 271, 277, 281, 283, 293, 307, 311, 313,\n",
       "       317, 331, 337, 347, 349, 353, 359, 367, 373, 379, 383, 389, 397,\n",
       "       401, 409, 419, 421, 431, 433, 439, 443, 449, 457, 461, 463, 467,\n",
       "       479, 487, 491, 499, 503, 509, 521, 523, 541])"
      ]
     },
     "execution_count": 46,
     "metadata": {},
     "output_type": "execute_result"
    }
   ],
   "source": [
    "def isprime(n):\n",
    "    for i in range(2,int(n/2)+1):\n",
    "        if n % i == 0:\n",
    "           # print(f\"i:{i}\")\n",
    "            return False\n",
    "    return True\n",
    "\n",
    "def numPrimi(num_valori):\n",
    "    array = np.zeros((100), dtype = int)\n",
    "    i = 0\n",
    "    j = 2\n",
    "    while i < 100:\n",
    "        if isprime(j):\n",
    "            array[i] = j\n",
    "            i += 1\n",
    "        #print(j)\n",
    "        j += 1\n",
    "    return array\n",
    "numPrimi(100)"
   ]
  },
  {
   "cell_type": "markdown",
   "id": "2678d5ed",
   "metadata": {},
   "source": [
    "Generare un array Numpy contenente i primi 10 numeri di Fibonacci"
   ]
  },
  {
   "cell_type": "code",
   "execution_count": 47,
   "id": "a3f3b714",
   "metadata": {},
   "outputs": [
    {
     "data": {
      "text/plain": [
       "array([ 0,  1,  1,  2,  3,  5,  8, 13, 21, 34])"
      ]
     },
     "execution_count": 47,
     "metadata": {},
     "output_type": "execute_result"
    }
   ],
   "source": [
    "def fibonacci(num_cifre):\n",
    "    array = np.zeros(num_cifre, dtype = int)\n",
    "    array[0] = 0\n",
    "    array[1] = 1\n",
    "    for i in range(2,num_cifre):\n",
    "        array[i] = array[i-1] + array[i-2]\n",
    "    return array\n",
    "fibonacci(10)"
   ]
  }
 ],
 "metadata": {
  "kernelspec": {
   "display_name": "Python 3",
   "language": "python",
   "name": "python3"
  },
  "language_info": {
   "codemirror_mode": {
    "name": "ipython",
    "version": 3
   },
   "file_extension": ".py",
   "mimetype": "text/x-python",
   "name": "python",
   "nbconvert_exporter": "python",
   "pygments_lexer": "ipython3",
   "version": "3.8.8"
  }
 },
 "nbformat": 4,
 "nbformat_minor": 5
}
