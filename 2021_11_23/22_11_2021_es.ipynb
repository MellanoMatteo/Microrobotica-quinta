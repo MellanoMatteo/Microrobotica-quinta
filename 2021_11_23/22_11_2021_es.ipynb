{
 "cells": [
  {
   "cell_type": "markdown",
   "id": "213e7772",
   "metadata": {},
   "source": [
    "Creare una funzione che trovi gli elementi comuni a due ndarray monodimensionali di lunghezza diversa."
   ]
  },
  {
   "cell_type": "code",
   "execution_count": 7,
   "id": "31f7ff3c",
   "metadata": {},
   "outputs": [
    {
     "name": "stdout",
     "output_type": "stream",
     "text": [
      "[1 4 8]\n"
     ]
    }
   ],
   "source": [
    "def trovaUguali(arr1, arr2):\n",
    "    return np.intersect1d(arr1, arr2)\n",
    "    \n",
    "\n",
    "arr1 = np.array([1,2,4,6,8])\n",
    "arr2 = np.array([8,4,5,4,1])\n",
    "\n",
    "print(trovaUguali(arr1, arr2))"
   ]
  },
  {
   "cell_type": "markdown",
   "id": "fd0419c3",
   "metadata": {},
   "source": [
    "2)Usiamo Numpy per creare dei dati simulati riferiti ad una situazione reale: in certi casi i dati simulati sono una buona approssimazione della realtà. Nel parco vicino alla scuola è installata una centralina per la misurazione del livello di polveri sottili PM10 nell'aria. Talvolta la centralina va in uno stato di errore per cui la misurazione delle PM10 fallisce ed il dato corrispondente riporta il valore 9999.9 all'interno dell'array delle misurazioni dati. \n",
    "\n",
    "Creare un array di 1000 campioni che generino dei valori secondo una distribuzione normale con valore medio 19 e varianza 5 e supporre che la centralina sia andata in errore 20 volte. La distribuzione gaussiana è una buona approssimazione dei dati reali della centralina?"
   ]
  },
  {
   "cell_type": "code",
   "execution_count": 2,
   "id": "fe657612",
   "metadata": {},
   "outputs": [],
   "source": [
    "import numpy as np"
   ]
  },
  {
   "cell_type": "code",
   "execution_count": 3,
   "id": "76d574a2",
   "metadata": {},
   "outputs": [
    {
     "name": "stdout",
     "output_type": "stream",
     "text": [
      "Senza errori: [18.94062386], [2.21752127] \n",
      "con errori: [218.54222583], [1397.20998666]\n"
     ]
    }
   ],
   "source": [
    "arr = np.random.normal(19,np.sqrt(5),1000)\n",
    "\n",
    "#elaborazione dei dati delle rilevazioni senza errori\n",
    "mediaSenzaErrori = np.sum(arr) / arr.shape\n",
    "\n",
    "devStandardSenzaErrori = 0\n",
    "for i in arr:\n",
    "    devStandardSenzaErrori += (i-mediaSenzaErrori) ** 2\n",
    "devStandardSenzaErrori = np.sqrt(devStandardSenzaErrori / arr.shape)\n",
    "\n",
    "#elaborazione dei dati con gli errori\n",
    "error = np.random.choice(range(1000),20, replace = False)\n",
    "\n",
    "arr[error] = 9999\n",
    "\n",
    "mediaConErrori = np.sum(arr) / arr.shape\n",
    "\n",
    "devStandardConErrori = 0\n",
    "for i in arr:\n",
    "    devStandardConErrori += (i-mediaConErrori) ** 2\n",
    "devStandardConErrori = np.sqrt(devStandardConErrori / arr.shape)\n",
    "\n",
    "\n",
    "\n",
    "print(f\"Senza errori: {mediaSenzaErrori}, {devStandardSenzaErrori} \\ncon errori: {mediaConErrori}, {devStandardConErrori}\")"
   ]
  },
  {
   "cell_type": "code",
   "execution_count": null,
   "id": "87d97d08",
   "metadata": {},
   "outputs": [],
   "source": []
  }
 ],
 "metadata": {
  "kernelspec": {
   "display_name": "Python 3",
   "language": "python",
   "name": "python3"
  },
  "language_info": {
   "codemirror_mode": {
    "name": "ipython",
    "version": 3
   },
   "file_extension": ".py",
   "mimetype": "text/x-python",
   "name": "python",
   "nbconvert_exporter": "python",
   "pygments_lexer": "ipython3",
   "version": "3.8.8"
  }
 },
 "nbformat": 4,
 "nbformat_minor": 5
}
